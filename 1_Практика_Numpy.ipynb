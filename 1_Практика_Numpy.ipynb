{
  "cells": [
    {
      "cell_type": "markdown",
      "metadata": {
        "id": "view-in-github",
        "colab_type": "text"
      },
      "source": [
        "<a href=\"https://colab.research.google.com/github/vladtsyp/study_datamining/blob/main/1_%D0%9F%D1%80%D0%B0%D0%BA%D1%82%D0%B8%D0%BA%D0%B0_Numpy.ipynb\" target=\"_parent\"><img src=\"https://colab.research.google.com/assets/colab-badge.svg\" alt=\"Open In Colab\"/></a>"
      ]
    },
    {
      "cell_type": "markdown",
      "metadata": {
        "id": "BF4grSYKg73V"
      },
      "source": [
        "# Практика Numpy\n",
        "\n",
        "1. Скачайте этот блокнот к себе.\n",
        "2. Заполните пропущенные ячейки, отвечая на заданные вопросы. Там должен быть код! (если не сказано обратное)\n",
        "3. Сохраните результат в своём гитхаб репозитории.\n",
        "\n",
        "#### Полезная литература\n",
        "- [**Блокнот с теорией**](https://clck.ru/35fwMP)\n",
        "- http://www.numpy.org/\n",
        "- https://jakevdp.github.io/PythonDataScienceHandbook/02.00-introduction-to-numpy.html\n",
        "- https://docs.scipy.org/doc/numpy/user/quickstart.html\n"
      ]
    },
    {
      "cell_type": "markdown",
      "metadata": {
        "id": "M-XimTy4g73X"
      },
      "source": [
        "1) Импортировать numpy и написать версию"
      ]
    },
    {
      "cell_type": "code",
      "execution_count": null,
      "metadata": {
        "id": "edTYJytqg73Y",
        "colab": {
          "base_uri": "https://localhost:8080/",
          "height": 36
        },
        "outputId": "abe1c4b8-7aa2-478b-89cc-c27d4b1fb690"
      },
      "outputs": [
        {
          "output_type": "execute_result",
          "data": {
            "text/plain": [
              "'1.23.5'"
            ],
            "application/vnd.google.colaboratory.intrinsic+json": {
              "type": "string"
            }
          },
          "metadata": {},
          "execution_count": 1
        }
      ],
      "source": [
        "import numpy as np\n",
        "np.version.version"
      ]
    },
    {
      "cell_type": "markdown",
      "metadata": {
        "id": "Js6HVXOxg73Y"
      },
      "source": [
        "2) Создать нулевой вектор размера 10"
      ]
    },
    {
      "cell_type": "code",
      "execution_count": null,
      "metadata": {
        "id": "nm7ledVLg73Y",
        "colab": {
          "base_uri": "https://localhost:8080/"
        },
        "outputId": "3e0c4404-9ef0-46a9-fd19-d0552c6eb155"
      },
      "outputs": [
        {
          "output_type": "execute_result",
          "data": {
            "text/plain": [
              "array([0., 0., 0., 0., 0., 0., 0., 0., 0., 0.])"
            ]
          },
          "metadata": {},
          "execution_count": 2
        }
      ],
      "source": [
        "np.zeros(10)"
      ]
    },
    {
      "cell_type": "code",
      "source": [
        "np.array([0]*10)"
      ],
      "metadata": {
        "colab": {
          "base_uri": "https://localhost:8080/"
        },
        "id": "qMlFQBHfiF9O",
        "outputId": "5345beef-f361-4e9e-9adc-405ac20b43fe"
      },
      "execution_count": null,
      "outputs": [
        {
          "output_type": "execute_result",
          "data": {
            "text/plain": [
              "array([0, 0, 0, 0, 0, 0, 0, 0, 0, 0])"
            ]
          },
          "metadata": {},
          "execution_count": 134
        }
      ]
    },
    {
      "cell_type": "markdown",
      "metadata": {
        "id": "8SDeVDHPg73Z"
      },
      "source": [
        "3) Создать вектор заполненный 7-ами размера 7"
      ]
    },
    {
      "cell_type": "code",
      "execution_count": null,
      "metadata": {
        "id": "ckz5rNtug73Z",
        "colab": {
          "base_uri": "https://localhost:8080/"
        },
        "outputId": "eb4c618e-3e6b-47a3-915f-c07281e68e31"
      },
      "outputs": [
        {
          "output_type": "execute_result",
          "data": {
            "text/plain": [
              "array([7, 7, 7, 7, 7, 7, 7])"
            ]
          },
          "metadata": {},
          "execution_count": 7
        }
      ],
      "source": [
        "np.array([7]*7)"
      ]
    },
    {
      "cell_type": "code",
      "source": [
        "np.full(7, 7)"
      ],
      "metadata": {
        "colab": {
          "base_uri": "https://localhost:8080/"
        },
        "id": "pReG-PKYF72y",
        "outputId": "f05a08ab-600e-45d2-ee8d-13a999134215"
      },
      "execution_count": null,
      "outputs": [
        {
          "output_type": "execute_result",
          "data": {
            "text/plain": [
              "array([7, 7, 7, 7, 7, 7, 7])"
            ]
          },
          "metadata": {},
          "execution_count": 8
        }
      ]
    },
    {
      "cell_type": "markdown",
      "metadata": {
        "id": "3HFGpanUg73Z"
      },
      "source": [
        "4) Создать вектор заполненный четными числами от 10 до 100"
      ]
    },
    {
      "cell_type": "code",
      "execution_count": null,
      "metadata": {
        "id": "PxQfwkHFg73Z",
        "colab": {
          "base_uri": "https://localhost:8080/"
        },
        "outputId": "f7086d99-fc21-4596-f824-9927df098ea0"
      },
      "outputs": [
        {
          "output_type": "execute_result",
          "data": {
            "text/plain": [
              "array([ 10,  12,  14,  16,  18,  20,  22,  24,  26,  28,  30,  32,  34,\n",
              "        36,  38,  40,  42,  44,  46,  48,  50,  52,  54,  56,  58,  60,\n",
              "        62,  64,  66,  68,  70,  72,  74,  76,  78,  80,  82,  84,  86,\n",
              "        88,  90,  92,  94,  96,  98, 100])"
            ]
          },
          "metadata": {},
          "execution_count": 11
        }
      ],
      "source": [
        "np.arange(10, 101, 2)"
      ]
    },
    {
      "cell_type": "markdown",
      "metadata": {
        "id": "Kr_pZe-eg73a"
      },
      "source": [
        "5) Создать массив случайных чисел и развернуть его задом наперёд"
      ]
    },
    {
      "cell_type": "code",
      "execution_count": null,
      "metadata": {
        "id": "n-z2Zbhkg73a",
        "colab": {
          "base_uri": "https://localhost:8080/"
        },
        "outputId": "868a42a5-fc20-425f-b7ce-d406d2c60066"
      },
      "outputs": [
        {
          "output_type": "execute_result",
          "data": {
            "text/plain": [
              "array([-0.14726964,  0.67386738,  0.6175462 , -0.48575414, -0.35686517])"
            ]
          },
          "metadata": {},
          "execution_count": 15
        }
      ],
      "source": [
        "arr_5 = np.random.randn(5)\n",
        "arr_5"
      ]
    },
    {
      "cell_type": "code",
      "source": [
        "arr_5[::-1]"
      ],
      "metadata": {
        "colab": {
          "base_uri": "https://localhost:8080/"
        },
        "id": "mUskUxS7JChA",
        "outputId": "d6008fc0-1571-49a6-a61e-28d2544c5a23"
      },
      "execution_count": null,
      "outputs": [
        {
          "output_type": "execute_result",
          "data": {
            "text/plain": [
              "array([-0.35686517, -0.48575414,  0.6175462 ,  0.67386738, -0.14726964])"
            ]
          },
          "metadata": {},
          "execution_count": 17
        }
      ]
    },
    {
      "cell_type": "code",
      "source": [
        "arr_5 = np.array([np.random.randint(0, 10) for x in range(5)])\n",
        "arr_5"
      ],
      "metadata": {
        "colab": {
          "base_uri": "https://localhost:8080/"
        },
        "id": "gmGezf-sJIAS",
        "outputId": "7dbd4566-1be3-4f71-bde0-69239274d077"
      },
      "execution_count": null,
      "outputs": [
        {
          "output_type": "execute_result",
          "data": {
            "text/plain": [
              "array([7, 6, 1, 2, 5])"
            ]
          },
          "metadata": {},
          "execution_count": 24
        }
      ]
    },
    {
      "cell_type": "code",
      "source": [
        "arr_5[::-1]"
      ],
      "metadata": {
        "colab": {
          "base_uri": "https://localhost:8080/"
        },
        "id": "nrORcRXrJyMi",
        "outputId": "6aeb53e3-684e-4ba7-da55-ce202f6ae1b6"
      },
      "execution_count": null,
      "outputs": [
        {
          "output_type": "execute_result",
          "data": {
            "text/plain": [
              "array([5, 2, 1, 6, 7])"
            ]
          },
          "metadata": {},
          "execution_count": 25
        }
      ]
    },
    {
      "cell_type": "markdown",
      "metadata": {
        "id": "wFsBRv3Yg73a"
      },
      "source": [
        "6) Создать двумерную матрицу размера 3 на 3, заполненную числами от 0 до 9"
      ]
    },
    {
      "cell_type": "code",
      "execution_count": null,
      "metadata": {
        "id": "FBHjViULg73a",
        "colab": {
          "base_uri": "https://localhost:8080/"
        },
        "outputId": "f02d61ee-8187-45db-85bd-f32fff1907ac"
      },
      "outputs": [
        {
          "output_type": "execute_result",
          "data": {
            "text/plain": [
              "array([[0, 1, 2],\n",
              "       [3, 4, 5],\n",
              "       [6, 7, 8]])"
            ]
          },
          "metadata": {},
          "execution_count": 39
        }
      ],
      "source": [
        "arr_6 = np.arange(9) # ???\n",
        "arr_6 = arr_6.reshape(3, 3)\n",
        "arr_6"
      ]
    },
    {
      "cell_type": "markdown",
      "metadata": {
        "id": "DSB6smQyg73a"
      },
      "source": [
        "7) Создать матрицу размера 4 на 4 с единицами на диагонали смещеной на один наверх."
      ]
    },
    {
      "cell_type": "code",
      "execution_count": null,
      "metadata": {
        "id": "P_hy17H9g73b",
        "colab": {
          "base_uri": "https://localhost:8080/"
        },
        "outputId": "c8f02eb5-a491-44a5-862a-a1cd6690c445"
      },
      "outputs": [
        {
          "output_type": "execute_result",
          "data": {
            "text/plain": [
              "array([[0., 1., 0., 0.],\n",
              "       [0., 0., 1., 0.],\n",
              "       [0., 0., 0., 1.],\n",
              "       [0., 0., 0., 0.]])"
            ]
          },
          "metadata": {},
          "execution_count": 45
        }
      ],
      "source": [
        "np.eye(4, k=1)"
      ]
    },
    {
      "cell_type": "markdown",
      "metadata": {
        "id": "hLSsjUbPg73b"
      },
      "source": [
        "8) Создать матрицу с числами в диапазоне от 1 до 4 по диагонали. В других ячейках матрицы должны быть семерки."
      ]
    },
    {
      "cell_type": "code",
      "execution_count": null,
      "metadata": {
        "id": "H1N9NhU_g73b",
        "colab": {
          "base_uri": "https://localhost:8080/"
        },
        "outputId": "a2248431-4f00-4f38-97b9-84b70b649899"
      },
      "outputs": [
        {
          "output_type": "execute_result",
          "data": {
            "text/plain": [
              "array([[1, 7, 7, 7],\n",
              "       [7, 2, 7, 7],\n",
              "       [7, 7, 3, 7],\n",
              "       [7, 7, 7, 4]])"
            ]
          },
          "metadata": {},
          "execution_count": 58
        }
      ],
      "source": [
        "a = np.full((4, 4), 7)\n",
        "np.fill_diagonal(a, [range(1, 5)])\n",
        "a"
      ]
    },
    {
      "cell_type": "markdown",
      "metadata": {
        "id": "A4Z7Hb96g73b"
      },
      "source": [
        "9) Создать матрицу размера 5 на 5 заполненную числами от 0 до 4 в строках."
      ]
    },
    {
      "cell_type": "code",
      "execution_count": null,
      "metadata": {
        "id": "JBWWjMdvg73b",
        "colab": {
          "base_uri": "https://localhost:8080/"
        },
        "outputId": "855e6fa0-687b-4a96-9f0f-fabf3e1e9ef6"
      },
      "outputs": [
        {
          "output_type": "execute_result",
          "data": {
            "text/plain": [
              "array([[0, 1, 2, 3, 4],\n",
              "       [0, 1, 2, 3, 4],\n",
              "       [0, 1, 2, 3, 4],\n",
              "       [0, 1, 2, 3, 4],\n",
              "       [0, 1, 2, 3, 4]])"
            ]
          },
          "metadata": {},
          "execution_count": 65
        }
      ],
      "source": [
        "np.array([[0, 1, 2, 3, 4] for x in range(5)])"
      ]
    },
    {
      "cell_type": "code",
      "source": [
        "np.full((5, 5), [range(5)])"
      ],
      "metadata": {
        "colab": {
          "base_uri": "https://localhost:8080/"
        },
        "id": "vqjNC3aJX25I",
        "outputId": "505501ae-d3a6-4a34-909c-6280f425e10a"
      },
      "execution_count": null,
      "outputs": [
        {
          "output_type": "execute_result",
          "data": {
            "text/plain": [
              "array([[0, 1, 2, 3, 4],\n",
              "       [0, 1, 2, 3, 4],\n",
              "       [0, 1, 2, 3, 4],\n",
              "       [0, 1, 2, 3, 4],\n",
              "       [0, 1, 2, 3, 4]])"
            ]
          },
          "metadata": {},
          "execution_count": 68
        }
      ]
    },
    {
      "cell_type": "markdown",
      "metadata": {
        "id": "0nPC4cNcg73b"
      },
      "source": [
        "10) Создать матрицу случайных чисел размера 10 на 10 и отнять среднее по строкам из каждого элемента строки"
      ]
    },
    {
      "cell_type": "code",
      "execution_count": null,
      "metadata": {
        "id": "DiXDOccEg73c",
        "colab": {
          "base_uri": "https://localhost:8080/"
        },
        "outputId": "71062312-3f9b-4c8e-c6f5-5a1588b9dee5"
      },
      "outputs": [
        {
          "output_type": "execute_result",
          "data": {
            "text/plain": [
              "array([[0.18588677, 0.1794146 , 0.35865354, 0.47024472, 0.61401803,\n",
              "        0.58802359, 0.38565533, 0.31286169, 0.54447209, 0.38926512],\n",
              "       [0.46099404, 0.47754221, 0.69579611, 0.39365438, 0.5439908 ,\n",
              "        0.23484386, 0.83234597, 0.01818368, 0.48714335, 0.14342953],\n",
              "       [0.51130727, 0.45542358, 0.47169285, 0.25528375, 0.22475046,\n",
              "        0.77501362, 0.74685504, 0.6410744 , 0.8340889 , 0.64933248],\n",
              "       [0.97547502, 0.17751343, 0.0624193 , 0.36331681, 0.90001498,\n",
              "        0.49980799, 0.04900775, 0.74474134, 0.3585149 , 0.44033326],\n",
              "       [0.8919896 , 0.07177132, 0.98286144, 0.53640016, 0.80894691,\n",
              "        0.4427909 , 0.03694261, 0.67117222, 0.0914888 , 0.3780938 ],\n",
              "       [0.01606099, 0.0554489 , 0.02196653, 0.3935357 , 0.9101098 ,\n",
              "        0.00709687, 0.42906493, 0.39312432, 0.08228777, 0.54672196],\n",
              "       [0.93030346, 0.17209491, 0.34326532, 0.74587154, 0.67163687,\n",
              "        0.80357639, 0.34939904, 0.22334066, 0.52419913, 0.33056037],\n",
              "       [0.13775596, 0.98578074, 0.69865839, 0.11313234, 0.0376634 ,\n",
              "        0.89527228, 0.79987492, 0.38194574, 0.47285768, 0.66445384],\n",
              "       [0.02620778, 0.45414078, 0.85925631, 0.32173031, 0.23823505,\n",
              "        0.03642493, 0.62224629, 0.71014287, 0.832396  , 0.64277682],\n",
              "       [0.83617051, 0.59206778, 0.17560051, 0.21454896, 0.13333328,\n",
              "        0.36803931, 0.28345136, 0.98873838, 0.00368478, 0.35424241]])"
            ]
          },
          "metadata": {},
          "execution_count": 95
        }
      ],
      "source": [
        "arr_10 = np.random.random_sample((10, 10))\n",
        "arr_10"
      ]
    },
    {
      "cell_type": "code",
      "source": [
        "arr_10_m = arr_10.mean(axis=1, keepdims=True)\n",
        "arr_10_m"
      ],
      "metadata": {
        "colab": {
          "base_uri": "https://localhost:8080/"
        },
        "id": "lGyu5PCeZKc4",
        "outputId": "d1e8ffbd-3e41-46f3-d1e8-cb7c09b77a08"
      },
      "execution_count": null,
      "outputs": [
        {
          "output_type": "execute_result",
          "data": {
            "text/plain": [
              "array([[0.40284955],\n",
              "       [0.42879239],\n",
              "       [0.55648224],\n",
              "       [0.45711448],\n",
              "       [0.49124578],\n",
              "       [0.28554178],\n",
              "       [0.50942477],\n",
              "       [0.51873953],\n",
              "       [0.47435572],\n",
              "       [0.39498773]])"
            ]
          },
          "metadata": {},
          "execution_count": 99
        }
      ]
    },
    {
      "cell_type": "code",
      "source": [
        "arr_10 - arr_10_m"
      ],
      "metadata": {
        "colab": {
          "base_uri": "https://localhost:8080/"
        },
        "id": "fcEkJTYjZqEP",
        "outputId": "2a16dca8-48a2-4fa3-eb03-a8110449206f"
      },
      "execution_count": null,
      "outputs": [
        {
          "output_type": "execute_result",
          "data": {
            "text/plain": [
              "array([[-0.21696277, -0.22343495, -0.04419601,  0.06739517,  0.21116848,\n",
              "         0.18517404, -0.01719422, -0.08998786,  0.14162254, -0.01358443],\n",
              "       [ 0.03220165,  0.04874982,  0.26700372, -0.03513802,  0.1151984 ,\n",
              "        -0.19394853,  0.40355358, -0.41060871,  0.05835096, -0.28536287],\n",
              "       [-0.04517497, -0.10105866, -0.08478938, -0.30119849, -0.33173177,\n",
              "         0.21853138,  0.19037281,  0.08459217,  0.27760666,  0.09285025],\n",
              "       [ 0.51836054, -0.27960105, -0.39469518, -0.09379767,  0.4429005 ,\n",
              "         0.04269351, -0.40810672,  0.28762686, -0.09859958, -0.01678122],\n",
              "       [ 0.40074382, -0.41947446,  0.49161567,  0.04515438,  0.31770113,\n",
              "        -0.04845488, -0.45430317,  0.17992644, -0.39975697, -0.11315197],\n",
              "       [-0.26948079, -0.23009288, -0.26357525,  0.10799393,  0.62456802,\n",
              "        -0.27844491,  0.14352316,  0.10758254, -0.20325401,  0.26118018],\n",
              "       [ 0.42087869, -0.33732986, -0.16615945,  0.23644677,  0.1622121 ,\n",
              "         0.29415162, -0.16002572, -0.2860841 ,  0.01477436, -0.1788644 ],\n",
              "       [-0.38098357,  0.46704121,  0.17991886, -0.40560719, -0.48107613,\n",
              "         0.37653275,  0.28113539, -0.13679379, -0.04588185,  0.14571431],\n",
              "       [-0.44814794, -0.02021493,  0.3849006 , -0.1526254 , -0.23612067,\n",
              "        -0.43793078,  0.14789058,  0.23578716,  0.35804028,  0.1684211 ],\n",
              "       [ 0.44118278,  0.19708005, -0.21938721, -0.18043877, -0.26165445,\n",
              "        -0.02694842, -0.11153636,  0.59375066, -0.39130295, -0.04074532]])"
            ]
          },
          "metadata": {},
          "execution_count": 100
        }
      ]
    },
    {
      "cell_type": "markdown",
      "metadata": {
        "id": "ALlG8EA5g73c"
      },
      "source": [
        "11) Создать матрицу случайных чисел размера 10 на 10 и отнять медиану по столбцам из каждого элемента столбца  "
      ]
    },
    {
      "cell_type": "code",
      "execution_count": null,
      "metadata": {
        "id": "J7HvCuXFg73c",
        "colab": {
          "base_uri": "https://localhost:8080/"
        },
        "outputId": "d64c27bf-7156-4cab-cbad-5633d3482a15"
      },
      "outputs": [
        {
          "output_type": "execute_result",
          "data": {
            "text/plain": [
              "array([[0.74829251, 0.05358667, 0.72990022, 0.80142739, 0.88679903,\n",
              "        0.84474581, 0.60087456, 0.70395459, 0.72028489, 0.4318388 ],\n",
              "       [0.38176717, 0.79859352, 0.97380879, 0.44750584, 0.34859731,\n",
              "        0.98023088, 0.98135171, 0.14573372, 0.5233904 , 0.33343112],\n",
              "       [0.51904858, 0.16627885, 0.41787167, 0.45335185, 0.24538955,\n",
              "        0.67761965, 0.058339  , 0.85077879, 0.52497549, 0.44482387],\n",
              "       [0.1558781 , 0.52867462, 0.08149003, 0.95025499, 0.47758548,\n",
              "        0.08477143, 0.36585179, 0.67988647, 0.86414246, 0.48096846],\n",
              "       [0.21703488, 0.5687875 , 0.45044793, 0.38101708, 0.16580822,\n",
              "        0.1858512 , 0.09195669, 0.07812434, 0.40770154, 0.08678691],\n",
              "       [0.22266251, 0.5224703 , 0.7803942 , 0.58837607, 0.67812956,\n",
              "        0.67203863, 0.32439934, 0.36102442, 0.66000899, 0.70999175],\n",
              "       [0.54683513, 0.03041067, 0.73038875, 0.75404764, 0.78209164,\n",
              "        0.23435168, 0.47347379, 0.79245495, 0.83459955, 0.32663625],\n",
              "       [0.34225925, 0.57049498, 0.68747075, 0.75657204, 0.78147807,\n",
              "        0.96484211, 0.16021148, 0.75885906, 0.46642141, 0.32922314],\n",
              "       [0.09328583, 0.12723215, 0.47550506, 0.65037318, 0.4962433 ,\n",
              "        0.05315094, 0.14090732, 0.56467891, 0.85864171, 0.86531654],\n",
              "       [0.96525394, 0.5011552 , 0.1679986 , 0.52697861, 0.45125088,\n",
              "        0.08188348, 0.26577318, 0.98610375, 0.4927736 , 0.58086081]])"
            ]
          },
          "metadata": {},
          "execution_count": 106
        }
      ],
      "source": [
        "arr_11 = np.random.random_sample((10, 10))\n",
        "arr_11"
      ]
    },
    {
      "cell_type": "code",
      "source": [
        "arr_11_m = np.median(arr_11, axis=0, keepdims=True)\n",
        "arr_11_m"
      ],
      "metadata": {
        "colab": {
          "base_uri": "https://localhost:8080/"
        },
        "id": "XzYy2Gbedug5",
        "outputId": "fce6bc55-78f8-475c-8cc6-9d901793b6ec"
      },
      "execution_count": null,
      "outputs": [
        {
          "output_type": "execute_result",
          "data": {
            "text/plain": [
              "array([[0.36201321, 0.51181275, 0.58148791, 0.61937462, 0.48691439,\n",
              "        0.45319516, 0.29508626, 0.69192053, 0.59249224, 0.43833133]])"
            ]
          },
          "metadata": {},
          "execution_count": 115
        }
      ]
    },
    {
      "cell_type": "code",
      "source": [
        "arr_11 - arr_11_m"
      ],
      "metadata": {
        "colab": {
          "base_uri": "https://localhost:8080/"
        },
        "id": "ZdqG5n3_eNtG",
        "outputId": "8713de46-1418-49ce-ff91-8ef5283bb916"
      },
      "execution_count": null,
      "outputs": [
        {
          "output_type": "execute_result",
          "data": {
            "text/plain": [
              "array([[ 0.3862793 , -0.45822608,  0.14841231,  0.18205277,  0.39988464,\n",
              "         0.39155065,  0.3057883 ,  0.01203406,  0.12779266, -0.00649254],\n",
              "       [ 0.01975396,  0.28678077,  0.39232088, -0.17186878, -0.13831708,\n",
              "         0.52703572,  0.68626545, -0.54618681, -0.06910183, -0.10490022],\n",
              "       [ 0.15703538, -0.3455339 , -0.16361624, -0.16602278, -0.24152484,\n",
              "         0.22442449, -0.23674726,  0.15885827, -0.06751675,  0.00649254],\n",
              "       [-0.20613511,  0.01686187, -0.49999788,  0.33088037, -0.00932891,\n",
              "        -0.36842372,  0.07076553, -0.01203406,  0.27165022,  0.04263713],\n",
              "       [-0.14497833,  0.05697476, -0.13103998, -0.23835754, -0.32110617,\n",
              "        -0.26734396, -0.20312957, -0.61379619, -0.18479069, -0.35154442],\n",
              "       [-0.1393507 ,  0.01065755,  0.19890629, -0.03099855,  0.19121517,\n",
              "         0.21884347,  0.02931308, -0.33089611,  0.06751675,  0.27166041],\n",
              "       [ 0.18482192, -0.48140207,  0.14890084,  0.13467302,  0.29517725,\n",
              "        -0.21884347,  0.17838753,  0.10053442,  0.24210731, -0.11169508],\n",
              "       [-0.01975396,  0.05868223,  0.10598285,  0.13719742,  0.29456369,\n",
              "         0.51164695, -0.13487477,  0.06693853, -0.12607083, -0.10910819],\n",
              "       [-0.26872738, -0.38458059, -0.10598285,  0.03099855,  0.00932891,\n",
              "        -0.40004422, -0.15417894, -0.12724161,  0.26614947,  0.42698521],\n",
              "       [ 0.60324073, -0.01065755, -0.41348931, -0.09239601, -0.03566351,\n",
              "        -0.37131167, -0.02931308,  0.29418322, -0.09971864,  0.14252948]])"
            ]
          },
          "metadata": {},
          "execution_count": 116
        }
      ]
    },
    {
      "cell_type": "markdown",
      "metadata": {
        "id": "49ooRWtKg73c"
      },
      "source": [
        "12) Создать матрицу случайных чисел 5x5. Добавить к ней столбцы максимумов и минимумов по строкам. Получится матрица 5x7.  "
      ]
    },
    {
      "cell_type": "code",
      "execution_count": null,
      "metadata": {
        "id": "fxazLdb9g73c",
        "colab": {
          "base_uri": "https://localhost:8080/"
        },
        "outputId": "e807af48-a309-4393-b34a-7f9dbe7d9f15"
      },
      "outputs": [
        {
          "output_type": "execute_result",
          "data": {
            "text/plain": [
              "array([[0.23649728, 0.85695793, 0.21976859, 0.15518578, 0.11206236],\n",
              "       [0.53989914, 0.36641652, 0.31811947, 0.0258579 , 0.76330144],\n",
              "       [0.91873065, 0.03042831, 0.07109535, 0.94241487, 0.17944837],\n",
              "       [0.00279229, 0.36405067, 0.29450464, 0.9480603 , 0.29787291],\n",
              "       [0.21749258, 0.94268502, 0.81152694, 0.61946166, 0.24962568]])"
            ]
          },
          "metadata": {},
          "execution_count": 110
        }
      ],
      "source": [
        "arr_12 = np.random.random_sample((5, 5))\n",
        "arr_12"
      ]
    },
    {
      "cell_type": "code",
      "source": [
        "np.hstack((np.hstack((arr_12, arr_12.max(axis=1, keepdims=True))), arr_12.min(axis=1, keepdims=True)))"
      ],
      "metadata": {
        "colab": {
          "base_uri": "https://localhost:8080/"
        },
        "id": "H_Zlh1Acfp3m",
        "outputId": "34a42c87-a4bd-4bb2-ece1-fc21ac4a9ee7"
      },
      "execution_count": null,
      "outputs": [
        {
          "output_type": "execute_result",
          "data": {
            "text/plain": [
              "array([[0.23649728, 0.85695793, 0.21976859, 0.15518578, 0.11206236,\n",
              "        0.85695793, 0.11206236],\n",
              "       [0.53989914, 0.36641652, 0.31811947, 0.0258579 , 0.76330144,\n",
              "        0.76330144, 0.0258579 ],\n",
              "       [0.91873065, 0.03042831, 0.07109535, 0.94241487, 0.17944837,\n",
              "        0.94241487, 0.03042831],\n",
              "       [0.00279229, 0.36405067, 0.29450464, 0.9480603 , 0.29787291,\n",
              "        0.9480603 , 0.00279229],\n",
              "       [0.21749258, 0.94268502, 0.81152694, 0.61946166, 0.24962568,\n",
              "        0.94268502, 0.21749258]])"
            ]
          },
          "metadata": {},
          "execution_count": 127
        }
      ]
    },
    {
      "cell_type": "markdown",
      "metadata": {
        "id": "qBuKa6-Ug73c"
      },
      "source": [
        "13) Вектор чисел от 1 до 51 преобразовать в вектор нечетных чисел и в вектор четных чисел, поменять их размерности, чтобы получились две матрицы. Найти произведение этих матриц. Найти обратную матрицу этого произведения.  "
      ]
    },
    {
      "cell_type": "code",
      "execution_count": null,
      "metadata": {
        "id": "8NJsiSU4g73d",
        "colab": {
          "base_uri": "https://localhost:8080/"
        },
        "outputId": "d88fc210-4541-4335-ad8f-b6aa823473f3"
      },
      "outputs": [
        {
          "output_type": "execute_result",
          "data": {
            "text/plain": [
              "array([ 1,  2,  3,  4,  5,  6,  7,  8,  9, 10, 11, 12, 13, 14, 15, 16, 17,\n",
              "       18, 19, 20, 21, 22, 23, 24, 25, 26, 27, 28, 29, 30, 31, 32, 33, 34,\n",
              "       35, 36, 37, 38, 39, 40, 41, 42, 43, 44, 45, 46, 47, 48, 49, 50])"
            ]
          },
          "metadata": {},
          "execution_count": 142
        }
      ],
      "source": [
        "arr_13 = np.arange(1, 51) # 51 не включая??\n",
        "arr_13"
      ]
    },
    {
      "cell_type": "code",
      "source": [
        "# нечетные\n",
        "arr_13_1 = arr_13[::2]\n",
        "arr_13_1"
      ],
      "metadata": {
        "colab": {
          "base_uri": "https://localhost:8080/"
        },
        "id": "m47LsqtNhp0g",
        "outputId": "d4d75db3-72e2-4784-bd99-1d54f78f57fb"
      },
      "execution_count": null,
      "outputs": [
        {
          "output_type": "execute_result",
          "data": {
            "text/plain": [
              "array([ 1,  3,  5,  7,  9, 11, 13, 15, 17, 19, 21, 23, 25, 27, 29, 31, 33,\n",
              "       35, 37, 39, 41, 43, 45, 47, 49])"
            ]
          },
          "metadata": {},
          "execution_count": 143
        }
      ]
    },
    {
      "cell_type": "code",
      "source": [
        "# четные\n",
        "arr_13_2 = arr_13[arr_13 % 2 == 0]\n",
        "arr_13_2"
      ],
      "metadata": {
        "colab": {
          "base_uri": "https://localhost:8080/"
        },
        "id": "1CkkhRKlh5CW",
        "outputId": "26661eb8-1b84-41e5-c34b-062ada2f25bd"
      },
      "execution_count": null,
      "outputs": [
        {
          "output_type": "execute_result",
          "data": {
            "text/plain": [
              "array([ 2,  4,  6,  8, 10, 12, 14, 16, 18, 20, 22, 24, 26, 28, 30, 32, 34,\n",
              "       36, 38, 40, 42, 44, 46, 48, 50])"
            ]
          },
          "metadata": {},
          "execution_count": 144
        }
      ]
    },
    {
      "cell_type": "code",
      "source": [
        "arr_13_1.shape, arr_13_2.shape"
      ],
      "metadata": {
        "colab": {
          "base_uri": "https://localhost:8080/"
        },
        "id": "3k-GaXMqiz9_",
        "outputId": "cedcf400-9e34-42a0-e2aa-12e9df1cf3a7"
      },
      "execution_count": null,
      "outputs": [
        {
          "output_type": "execute_result",
          "data": {
            "text/plain": [
              "((25,), (25,))"
            ]
          },
          "metadata": {},
          "execution_count": 145
        }
      ]
    },
    {
      "cell_type": "code",
      "source": [
        "arr_13_1 = arr_13_1.reshape(5, 5)\n",
        "arr_13_2 = arr_13_2.reshape(5, 5)\n",
        "print(arr_13_1, '\\n\\n', arr_13_2)"
      ],
      "metadata": {
        "colab": {
          "base_uri": "https://localhost:8080/"
        },
        "id": "CDY14HpKjJLl",
        "outputId": "ec3b331c-011e-4901-9dfa-8a661832effa"
      },
      "execution_count": null,
      "outputs": [
        {
          "output_type": "stream",
          "name": "stdout",
          "text": [
            "[[ 1  3  5  7  9]\n",
            " [11 13 15 17 19]\n",
            " [21 23 25 27 29]\n",
            " [31 33 35 37 39]\n",
            " [41 43 45 47 49]] \n",
            "\n",
            " [[ 2  4  6  8 10]\n",
            " [12 14 16 18 20]\n",
            " [22 24 26 28 30]\n",
            " [32 34 36 38 40]\n",
            " [42 44 46 48 50]]\n"
          ]
        }
      ]
    },
    {
      "cell_type": "code",
      "source": [
        "# произведение матриц\n",
        "arr_13_f = np.dot(arr_13_1, arr_13_2)\n",
        "arr_13_f"
      ],
      "metadata": {
        "colab": {
          "base_uri": "https://localhost:8080/"
        },
        "id": "TW1sZ-QFjOJN",
        "outputId": "b7086b44-26d2-4f3f-8124-352d5a627527"
      },
      "execution_count": null,
      "outputs": [
        {
          "output_type": "execute_result",
          "data": {
            "text/plain": [
              "array([[ 750,  800,  850,  900,  950],\n",
              "       [1850, 2000, 2150, 2300, 2450],\n",
              "       [2950, 3200, 3450, 3700, 3950],\n",
              "       [4050, 4400, 4750, 5100, 5450],\n",
              "       [5150, 5600, 6050, 6500, 6950]])"
            ]
          },
          "metadata": {},
          "execution_count": 156
        }
      ]
    },
    {
      "cell_type": "code",
      "source": [
        "# обратная матрица этого произведения\n",
        "np.linalg.inv(arr_13_f)"
      ],
      "metadata": {
        "colab": {
          "base_uri": "https://localhost:8080/",
          "height": 338
        },
        "id": "SugiSadtkIw3",
        "outputId": "20f6f277-2306-4be4-8cbc-a4cd173678af"
      },
      "execution_count": null,
      "outputs": [
        {
          "output_type": "error",
          "ename": "LinAlgError",
          "evalue": "ignored",
          "traceback": [
            "\u001b[0;31m---------------------------------------------------------------------------\u001b[0m",
            "\u001b[0;31mLinAlgError\u001b[0m                               Traceback (most recent call last)",
            "\u001b[0;32m<ipython-input-157-3f55232d3282>\u001b[0m in \u001b[0;36m<cell line: 2>\u001b[0;34m()\u001b[0m\n\u001b[1;32m      1\u001b[0m \u001b[0;31m# обратная матрица этого произведения\u001b[0m\u001b[0;34m\u001b[0m\u001b[0;34m\u001b[0m\u001b[0m\n\u001b[0;32m----> 2\u001b[0;31m \u001b[0mnp\u001b[0m\u001b[0;34m.\u001b[0m\u001b[0mlinalg\u001b[0m\u001b[0;34m.\u001b[0m\u001b[0minv\u001b[0m\u001b[0;34m(\u001b[0m\u001b[0marr_13_f\u001b[0m\u001b[0;34m)\u001b[0m\u001b[0;34m\u001b[0m\u001b[0;34m\u001b[0m\u001b[0m\n\u001b[0m",
            "\u001b[0;32m/usr/local/lib/python3.10/dist-packages/numpy/core/overrides.py\u001b[0m in \u001b[0;36minv\u001b[0;34m(*args, **kwargs)\u001b[0m\n",
            "\u001b[0;32m/usr/local/lib/python3.10/dist-packages/numpy/linalg/linalg.py\u001b[0m in \u001b[0;36minv\u001b[0;34m(a)\u001b[0m\n\u001b[1;32m    550\u001b[0m     \u001b[0msignature\u001b[0m \u001b[0;34m=\u001b[0m \u001b[0;34m'D->D'\u001b[0m \u001b[0;32mif\u001b[0m \u001b[0misComplexType\u001b[0m\u001b[0;34m(\u001b[0m\u001b[0mt\u001b[0m\u001b[0;34m)\u001b[0m \u001b[0;32melse\u001b[0m \u001b[0;34m'd->d'\u001b[0m\u001b[0;34m\u001b[0m\u001b[0;34m\u001b[0m\u001b[0m\n\u001b[1;32m    551\u001b[0m     \u001b[0mextobj\u001b[0m \u001b[0;34m=\u001b[0m \u001b[0mget_linalg_error_extobj\u001b[0m\u001b[0;34m(\u001b[0m\u001b[0m_raise_linalgerror_singular\u001b[0m\u001b[0;34m)\u001b[0m\u001b[0;34m\u001b[0m\u001b[0;34m\u001b[0m\u001b[0m\n\u001b[0;32m--> 552\u001b[0;31m     \u001b[0mainv\u001b[0m \u001b[0;34m=\u001b[0m \u001b[0m_umath_linalg\u001b[0m\u001b[0;34m.\u001b[0m\u001b[0minv\u001b[0m\u001b[0;34m(\u001b[0m\u001b[0ma\u001b[0m\u001b[0;34m,\u001b[0m \u001b[0msignature\u001b[0m\u001b[0;34m=\u001b[0m\u001b[0msignature\u001b[0m\u001b[0;34m,\u001b[0m \u001b[0mextobj\u001b[0m\u001b[0;34m=\u001b[0m\u001b[0mextobj\u001b[0m\u001b[0;34m)\u001b[0m\u001b[0;34m\u001b[0m\u001b[0;34m\u001b[0m\u001b[0m\n\u001b[0m\u001b[1;32m    553\u001b[0m     \u001b[0;32mreturn\u001b[0m \u001b[0mwrap\u001b[0m\u001b[0;34m(\u001b[0m\u001b[0mainv\u001b[0m\u001b[0;34m.\u001b[0m\u001b[0mastype\u001b[0m\u001b[0;34m(\u001b[0m\u001b[0mresult_t\u001b[0m\u001b[0;34m,\u001b[0m \u001b[0mcopy\u001b[0m\u001b[0;34m=\u001b[0m\u001b[0;32mFalse\u001b[0m\u001b[0;34m)\u001b[0m\u001b[0;34m)\u001b[0m\u001b[0;34m\u001b[0m\u001b[0;34m\u001b[0m\u001b[0m\n\u001b[1;32m    554\u001b[0m \u001b[0;34m\u001b[0m\u001b[0m\n",
            "\u001b[0;32m/usr/local/lib/python3.10/dist-packages/numpy/linalg/linalg.py\u001b[0m in \u001b[0;36m_raise_linalgerror_singular\u001b[0;34m(err, flag)\u001b[0m\n\u001b[1;32m     87\u001b[0m \u001b[0;34m\u001b[0m\u001b[0m\n\u001b[1;32m     88\u001b[0m \u001b[0;32mdef\u001b[0m \u001b[0m_raise_linalgerror_singular\u001b[0m\u001b[0;34m(\u001b[0m\u001b[0merr\u001b[0m\u001b[0;34m,\u001b[0m \u001b[0mflag\u001b[0m\u001b[0;34m)\u001b[0m\u001b[0;34m:\u001b[0m\u001b[0;34m\u001b[0m\u001b[0;34m\u001b[0m\u001b[0m\n\u001b[0;32m---> 89\u001b[0;31m     \u001b[0;32mraise\u001b[0m \u001b[0mLinAlgError\u001b[0m\u001b[0;34m(\u001b[0m\u001b[0;34m\"Singular matrix\"\u001b[0m\u001b[0;34m)\u001b[0m\u001b[0;34m\u001b[0m\u001b[0;34m\u001b[0m\u001b[0m\n\u001b[0m\u001b[1;32m     90\u001b[0m \u001b[0;34m\u001b[0m\u001b[0m\n\u001b[1;32m     91\u001b[0m \u001b[0;32mdef\u001b[0m \u001b[0m_raise_linalgerror_nonposdef\u001b[0m\u001b[0;34m(\u001b[0m\u001b[0merr\u001b[0m\u001b[0;34m,\u001b[0m \u001b[0mflag\u001b[0m\u001b[0;34m)\u001b[0m\u001b[0;34m:\u001b[0m\u001b[0;34m\u001b[0m\u001b[0;34m\u001b[0m\u001b[0m\n",
            "\u001b[0;31mLinAlgError\u001b[0m: Singular matrix"
          ]
        }
      ]
    },
    {
      "cell_type": "markdown",
      "metadata": {
        "id": "dIqffVE8g73d"
      },
      "source": [
        "14) Создать 8x8 матрицу и заполнить её в шахматном порядке нулями и единицами."
      ]
    },
    {
      "cell_type": "code",
      "execution_count": null,
      "metadata": {
        "id": "khdfFTxgg73d",
        "colab": {
          "base_uri": "https://localhost:8080/"
        },
        "outputId": "851bb6b3-87b4-4f40-a93c-7c1fe7c40e8c"
      },
      "outputs": [
        {
          "output_type": "execute_result",
          "data": {
            "text/plain": [
              "array([[0, 1, 0, 1, 0, 1, 0, 1],\n",
              "       [1, 0, 1, 0, 1, 0, 1, 0],\n",
              "       [0, 1, 0, 1, 0, 1, 0, 1],\n",
              "       [1, 0, 1, 0, 1, 0, 1, 0],\n",
              "       [0, 1, 0, 1, 0, 1, 0, 1],\n",
              "       [1, 0, 1, 0, 1, 0, 1, 0],\n",
              "       [0, 1, 0, 1, 0, 1, 0, 1],\n",
              "       [1, 0, 1, 0, 1, 0, 1, 0]])"
            ]
          },
          "metadata": {},
          "execution_count": 181
        }
      ],
      "source": [
        "# первый вариант\n",
        "arr_14 = np.array([[0, 1]*4, [1, 0]*4]*4)\n",
        "arr_14"
      ]
    },
    {
      "cell_type": "code",
      "source": [
        "# второй вариант\n",
        "arr_14 = np.zeros((8, 8), dtype=int)\n",
        "arr_14[1::2, ::2] = 1\n",
        "arr_14[::2, 1::2] = 1\n",
        "arr_14"
      ],
      "metadata": {
        "colab": {
          "base_uri": "https://localhost:8080/"
        },
        "id": "76X1MqhApDkc",
        "outputId": "0a29576f-37ab-440c-ca7f-45a50196dc79"
      },
      "execution_count": null,
      "outputs": [
        {
          "output_type": "execute_result",
          "data": {
            "text/plain": [
              "array([[0, 1, 0, 1, 0, 1, 0, 1],\n",
              "       [1, 0, 1, 0, 1, 0, 1, 0],\n",
              "       [0, 1, 0, 1, 0, 1, 0, 1],\n",
              "       [1, 0, 1, 0, 1, 0, 1, 0],\n",
              "       [0, 1, 0, 1, 0, 1, 0, 1],\n",
              "       [1, 0, 1, 0, 1, 0, 1, 0],\n",
              "       [0, 1, 0, 1, 0, 1, 0, 1],\n",
              "       [1, 0, 1, 0, 1, 0, 1, 0]])"
            ]
          },
          "metadata": {},
          "execution_count": 164
        }
      ]
    },
    {
      "cell_type": "code",
      "source": [
        "# третий вариант\n",
        "np.tile(np.array([[0, 1], [1, 0]]), (4, 4))"
      ],
      "metadata": {
        "colab": {
          "base_uri": "https://localhost:8080/"
        },
        "id": "wOhCpCQCpuqk",
        "outputId": "92bf848b-9211-400e-d7c3-4581d1b16fb5"
      },
      "execution_count": null,
      "outputs": [
        {
          "output_type": "execute_result",
          "data": {
            "text/plain": [
              "array([[0, 1, 0, 1, 0, 1, 0, 1],\n",
              "       [1, 0, 1, 0, 1, 0, 1, 0],\n",
              "       [0, 1, 0, 1, 0, 1, 0, 1],\n",
              "       [1, 0, 1, 0, 1, 0, 1, 0],\n",
              "       [0, 1, 0, 1, 0, 1, 0, 1],\n",
              "       [1, 0, 1, 0, 1, 0, 1, 0],\n",
              "       [0, 1, 0, 1, 0, 1, 0, 1],\n",
              "       [1, 0, 1, 0, 1, 0, 1, 0]])"
            ]
          },
          "metadata": {},
          "execution_count": 182
        }
      ]
    }
  ],
  "metadata": {
    "kernelspec": {
      "display_name": "Python 3",
      "name": "python3"
    },
    "language_info": {
      "codemirror_mode": {
        "name": "ipython",
        "version": 3
      },
      "file_extension": ".py",
      "mimetype": "text/x-python",
      "name": "python",
      "nbconvert_exporter": "python",
      "pygments_lexer": "ipython3",
      "version": "3.8.0"
    },
    "colab": {
      "provenance": [],
      "include_colab_link": true
    }
  },
  "nbformat": 4,
  "nbformat_minor": 0
}